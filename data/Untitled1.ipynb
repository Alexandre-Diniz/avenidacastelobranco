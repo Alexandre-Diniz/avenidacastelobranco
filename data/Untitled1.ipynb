{
 "cells": [
  {
   "cell_type": "code",
   "execution_count": 1,
   "metadata": {},
   "outputs": [],
   "source": [
    "import pandas as pd\n",
    "import numpy as np"
   ]
  },
  {
   "cell_type": "code",
   "execution_count": 12,
   "metadata": {},
   "outputs": [],
   "source": [
    "from geopy.geocoders import Nominatim\n",
    "import geopy.geocoders\n",
    "geopy.geocoders.options.default_timeout = 1\n",
    "geolocator = Nominatim(user_agent=\"SaoFrancisco\")"
   ]
  },
  {
   "cell_type": "code",
   "execution_count": 52,
   "metadata": {},
   "outputs": [],
   "source": [
    "path = 'casteloBranco.csv'\n",
    "df = pd.read_csv(path, low_memory=False)"
   ]
  },
  {
   "cell_type": "code",
   "execution_count": 53,
   "metadata": {},
   "outputs": [
    {
     "data": {
      "text/plain": [
       "-44.3031077    1009\n",
       "-                51\n",
       "-44.3043946      22\n",
       "-44.3036346       2\n",
       "Name: longitude, dtype: int64"
      ]
     },
     "execution_count": 53,
     "metadata": {},
     "output_type": "execute_result"
    }
   ],
   "source": [
    "df['longitude'].value_counts()"
   ]
  },
  {
   "cell_type": "code",
   "execution_count": null,
   "metadata": {},
   "outputs": [],
   "source": [
    "i = 0\n",
    "cont = 0\n",
    "while True:\n",
    "    if(i==df.shape[0] or cont==df.shape[0]):\n",
    "        break\n",
    "    print('-->'+str(i))\n",
    "    try:\n",
    "        if(df['latitude'][i]=='-' or df['longitude'][i]=='-'):\n",
    "            time.sleep(1)\n",
    "            endereco = 'Avenida Marechal Castelo Branco, '+str(df['numero'][i])+', São Francisco, São Luís, Maranhão'\n",
    "            location = geolocator.geocode(endereco)\n",
    "            try:\n",
    "                df['latitude'][i] = location.latitude\n",
    "                df['longitude'][i] = location.longitude\n",
    "                cont = cont+1\n",
    "                print('-->cont: '+str(cont)+'/'+str(df.shape[0]))\n",
    "                df.to_csv(path)\n",
    "            except:\n",
    "                print('It doesn\\'t works!')\n",
    "        if(df['latitude'][i]!='-' and df['longitude'][i]!='-'):\n",
    "            cont = cont+1\n",
    "            print('-->cont: '+str(cont)+'/'+str(df.shape[0]))\n",
    "    except:\n",
    "        print('Failed')\n",
    "    i = i+1\n",
    "print('Done!')"
   ]
  }
 ],
 "metadata": {
  "kernelspec": {
   "display_name": "Python 3",
   "language": "python",
   "name": "python3"
  },
  "language_info": {
   "codemirror_mode": {
    "name": "ipython",
    "version": 3
   },
   "file_extension": ".py",
   "mimetype": "text/x-python",
   "name": "python",
   "nbconvert_exporter": "python",
   "pygments_lexer": "ipython3",
   "version": "3.7.3"
  }
 },
 "nbformat": 4,
 "nbformat_minor": 2
}
